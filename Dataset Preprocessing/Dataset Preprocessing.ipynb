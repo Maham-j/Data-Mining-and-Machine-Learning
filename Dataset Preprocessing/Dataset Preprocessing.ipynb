{
 "cells": [
  {
   "cell_type": "markdown",
   "id": "5593e1ea",
   "metadata": {},
   "source": [
    "# Data Preprocessing Report\n",
    "\n",
    "## 1. Data Loading and Exploration\n",
    "\n",
    "### Dataset: Sleep Deprivation Dataset\n",
    "\n",
    "- **Source:** Provided dataset\n",
    "- **Rows:** 60\n",
    "- **Columns:** 14\n",
    "- **Target Variable:** `Sleep_Quality_Score`\n",
    "\n"
   ]
  },
  {
   "cell_type": "code",
   "execution_count": 3,
   "id": "275eb1fc",
   "metadata": {},
   "outputs": [
    {
     "name": "stdout",
     "output_type": "stream",
     "text": [
      "<class 'pandas.core.frame.DataFrame'>\n",
      "RangeIndex: 60 entries, 0 to 59\n",
      "Data columns (total 14 columns):\n",
      " #   Column                     Non-Null Count  Dtype  \n",
      "---  ------                     --------------  -----  \n",
      " 0   Participant_ID             60 non-null     object \n",
      " 1   Sleep_Hours                60 non-null     float64\n",
      " 2   Sleep_Quality_Score        60 non-null     int64  \n",
      " 3   Daytime_Sleepiness         60 non-null     int64  \n",
      " 4   Stroop_Task_Reaction_Time  60 non-null     float64\n",
      " 5   N_Back_Accuracy            60 non-null     float64\n",
      " 6   Emotion_Regulation_Score   60 non-null     int64  \n",
      " 7   PVT_Reaction_Time          60 non-null     float64\n",
      " 8   Age                        60 non-null     int64  \n",
      " 9   Gender                     60 non-null     object \n",
      " 10  BMI                        60 non-null     float64\n",
      " 11  Caffeine_Intake            60 non-null     int64  \n",
      " 12  Physical_Activity_Level    60 non-null     int64  \n",
      " 13  Stress_Level               60 non-null     int64  \n",
      "dtypes: float64(5), int64(7), object(2)\n",
      "memory usage: 6.7+ KB\n"
     ]
    },
    {
     "data": {
      "text/plain": [
       "Participant_ID               0\n",
       "Sleep_Hours                  0\n",
       "Sleep_Quality_Score          0\n",
       "Daytime_Sleepiness           0\n",
       "Stroop_Task_Reaction_Time    0\n",
       "N_Back_Accuracy              0\n",
       "Emotion_Regulation_Score     0\n",
       "PVT_Reaction_Time            0\n",
       "Age                          0\n",
       "Gender                       0\n",
       "BMI                          0\n",
       "Caffeine_Intake              0\n",
       "Physical_Activity_Level      0\n",
       "Stress_Level                 0\n",
       "dtype: int64"
      ]
     },
     "execution_count": 3,
     "metadata": {},
     "output_type": "execute_result"
    }
   ],
   "source": [
    "import pandas as pd\n",
    "\n",
    "df = pd.read_csv(r\"C:\\Users\\lenovo\\Downloads\\archive\\sleep_deprivation_dataset_detailed.csv\")\n",
    "df.info()\n",
    "\n",
    "df.isnull().sum()\n",
    "\n"
   ]
  },
  {
   "cell_type": "markdown",
   "id": "7f5fd962",
   "metadata": {},
   "source": [
    "#### Observations:\n",
    "\n",
    "- The dataset contains both numerical and categorical features.\n",
    "- No missing values were detected.\n",
    "\n",
    "---\n",
    "\n",
    "## 2. Handling Missing Values\n",
    "\n",
    "Since there are no missing values in the dataset, no imputation or removal is required.\n",
    "## 3. Encoding Categorical Variables\n",
    "\n",
    "### Identified Categorical Columns:\n",
    "\n",
    "- `Gender` (Nominal)\n",
    "- `Participant_ID` (Dropped as it does not contribute to prediction)\n",
    "\n",
    "### Encoding Process:"
   ]
  },
  {
   "cell_type": "code",
   "execution_count": null,
   "id": "bfb53408",
   "metadata": {},
   "outputs": [],
   "source": [
    "from sklearn.preprocessing import LabelEncoder\n",
    "\n",
    "label_encoder = LabelEncoder()\n",
    "df[\"Gender\"] = label_encoder.fit_transform(df[\"Gender\"])\n",
    "\n",
    "df.drop(columns=[\"Participant_ID\"], inplace=True)\n"
   ]
  },
  {
   "cell_type": "markdown",
   "id": "770bb3af",
   "metadata": {},
   "source": [
    "#### Explanation:\n",
    "\n",
    "- **Label Encoding** is used for `Gender` since it has only two categories (Male = 1, Female = 0).\n",
    "- **Participant\\_ID** is an identifier and not a feature affecting the target variable, so it is dropped.\n",
    "\n",
    "---\n",
    "\n",
    "## 4. Feature Scaling\n",
    "\n",
    "### Standardization & Normalization\n",
    "\n",
    "#### Standardization (for normally distributed features):\n",
    "\n",
    "- `Sleep_Hours`\n",
    "- `Stroop_Task_Reaction_Time`\n",
    "- `PVT_Reaction_Time`\n",
    "- `BMI`\n",
    "\n",
    "#### Normalization (for non-normal features):\n",
    "\n",
    "- `Sleep_Quality_Score`\n",
    "- `Daytime_Sleepiness`\n",
    "- `N_Back_Accuracy`\n",
    "- `Emotion_Regulation_Score`\n",
    "- `Age`\n",
    "- `Caffeine_Intake`\n",
    "- `Physical_Activity_Level`\n",
    "- `Stress_Level`\n",
    "\n",
    "### Scaling Process:"
   ]
  },
  {
   "cell_type": "code",
   "execution_count": null,
   "id": "fec56053",
   "metadata": {},
   "outputs": [],
   "source": [
    "from sklearn.preprocessing import StandardScaler, MinMaxScaler\n",
    "\n",
    "scaler = StandardScaler()\n",
    "standardized_columns = [\"Sleep_Hours\", \"Stroop_Task_Reaction_Time\", \"PVT_Reaction_Time\", \"BMI\"]\n",
    "df[standardized_columns] = scaler.fit_transform(df[standardized_columns])\n",
    "\n",
    "minmax_scaler = MinMaxScaler()\n",
    "normalized_columns = [\"Sleep_Quality_Score\", \"Daytime_Sleepiness\", \"N_Back_Accuracy\",\n",
    "                      \"Emotion_Regulation_Score\", \"Age\", \"Caffeine_Intake\",\n",
    "                      \"Physical_Activity_Level\", \"Stress_Level\"]\n",
    "df[normalized_columns] = minmax_scaler.fit_transform(df[normalized_columns])"
   ]
  },
  {
   "cell_type": "markdown",
   "id": "70c0d9dd",
   "metadata": {},
   "source": [
    "#### Explanation:\n",
    "\n",
    "- **Standardization** is applied to features assumed to be normally distributed (zero mean, unit variance).\n",
    "- **Normalization** is applied to features that are not normally distributed to bring values into the `[0,1]` range.\n",
    "\n",
    "---\n",
    "\n",
    "## 5. Splitting the Dataset\n",
    "\n",
    "### Train-Test Split (80-20)\n"
   ]
  },
  {
   "cell_type": "code",
   "execution_count": null,
   "id": "a3b9c952",
   "metadata": {},
   "outputs": [],
   "source": [
    "from sklearn.model_selection import train_test_split\n",
    "\n",
    "\n",
    "X = df.drop(columns=[\"Sleep_Quality_Score\"])  \n",
    "y = df[\"Sleep_Quality_Score\"]\n",
    "\n",
    "X_train, X_test, y_train, y_test = train_test_split(X, y, test_size=0.2, random_state=42)\n"
   ]
  },
  {
   "cell_type": "markdown",
   "id": "de0de5cd",
   "metadata": {},
   "source": [
    "#### Explanation:\n",
    "\n",
    "- **80-20 Split** is chosen to ensure enough training data while reserving a portion for evaluation.\n",
    "- **Random State (42)** ensures reproducibility.\n",
    "\n",
    "---\n",
    "\n",
    "## 6. Before-and-After Comparisons\n",
    "\n",
    "### Sample Before Processing:\n",
    "\n",
    "| Sleep\\_Hours | Gender | Stroop\\_Task\\_Reaction\\_Time | BMI |\n",
    "| ------------ | ------ | ---------------------------- | --- |\n",
    "| 6.5          | Male   | 500                          | 24  |\n",
    "| 7.2          | Female | 460                          | 21  |\n",
    "\n",
    "### Sample After Processing:\n",
    "\n",
    "| Sleep\\_Hours | Gender | Stroop\\_Task\\_Reaction\\_Time | BMI   |\n",
    "| ------------ | ------ | ---------------------------- | ----- |\n",
    "| -0.30        | 1      | -2.00                        | 0.71  |\n",
    "| 1.59         | 0      | -0.85                        | -0.01 |\n",
    "\n",
    "#### Key Changes:\n",
    "\n",
    "- `Gender` is now numerical.\n",
    "- `Sleep_Hours`, `Stroop_Task_Reaction_Time`, and `BMI` are scaled.\n",
    "\n",
    "---\n",
    "\n",
    "## 7. Challenges Faced\n",
    "\n",
    "1. **Feature Distribution Assumptions** – Determining whether a feature follows a normal distribution required visualization, but due to the small dataset size, assumptions were made based on feature characteristics.\n",
    "2. **Choosing the Right Encoding** – Since `Gender` had only two categories, label encoding was sufficient.\n",
    "3. **Standardization vs. Normalization** – A mix of both techniques was used based on the distribution of numerical features.\n",
    "\n",
    "---\n",
    "\n"
   ]
  },
  {
   "cell_type": "code",
   "execution_count": null,
   "id": "ca57a127",
   "metadata": {},
   "outputs": [],
   "source": []
  }
 ],
 "metadata": {
  "kernelspec": {
   "display_name": "Python 3 (ipykernel)",
   "language": "python",
   "name": "python3"
  },
  "language_info": {
   "codemirror_mode": {
    "name": "ipython",
    "version": 3
   },
   "file_extension": ".py",
   "mimetype": "text/x-python",
   "name": "python",
   "nbconvert_exporter": "python",
   "pygments_lexer": "ipython3",
   "version": "3.9.13"
  }
 },
 "nbformat": 4,
 "nbformat_minor": 5
}
