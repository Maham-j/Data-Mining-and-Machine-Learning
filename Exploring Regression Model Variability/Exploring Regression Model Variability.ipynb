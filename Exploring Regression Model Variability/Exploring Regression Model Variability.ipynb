{
 "cells": [
  {
   "cell_type": "markdown",
   "id": "32c29a21",
   "metadata": {},
   "source": [
    "# Data Preparation"
   ]
  },
  {
   "cell_type": "code",
   "execution_count": 2,
   "id": "f69d5d4d",
   "metadata": {},
   "outputs": [],
   "source": [
    "import pandas as pd\n",
    "\n",
    "housing = pd.read_csv(r\"C:\\Users\\lenovo\\Downloads\\archive (3)housing.csv\")\n",
    "\n",
    "print(housing.info())\n",
    "print(housing.head())\n"
   ]
  },
  {
   "cell_type": "code",
   "execution_count": 4,
   "id": "67fbf8f9",
   "metadata": {},
   "outputs": [],
   "source": [
    "from sklearn.model_selection import train_test_split\n",
    "from sklearn.linear_model import LinearRegression\n",
    "from sklearn.metrics import mean_squared_error\n",
    "import numpy as np\n",
    "import matplotlib.pyplot as plt\n",
    "\n",
    "X = housing[['median_income']]\n",
    "y = housing['median_house_value']\n",
    "\n",
    "def perform_linear_regression(test_size, random_state, train_fraction):\n",
    "    X_train, X_test, y_train, y_test = train_test_split(\n",
    "        X, y, test_size=test_size, random_state=random_state)\n",
    "    \n",
    "    train_size = int(len(X_train) * train_fraction)\n",
    "    X_train = X_train[:train_size]\n",
    "    y_train = y_train[:train_size]\n",
    "    \n",
    "    model = LinearRegression()\n",
    "    model.fit(X_train, y_train)\n",
    "    \n",
    "    y_pred = model.predict(X_test)\n",
    "    \n",
    "    mse = mean_squared_error(y_test, y_pred)\n",
    "    \n",
    "    plt.figure(figsize=(10, 6))\n",
    "    plt.scatter(X_test, y_test, color='blue', label='Actual values')\n",
    "    plt.plot(X_test, y_pred, color='red', linewidth=2, label='Regression line')\n",
    "    plt.xlabel('Median Income')\n",
    "    plt.ylabel('Median House Value')\n",
    "    plt.title(f'Train Fraction: {train_fraction*100}%, Test Size: {test_size*100}%, Random State: {random_state}\\nMSE: {mse:.2f}')\n",
    "    plt.legend()\n",
    "    plt.show()\n",
    "    \n",
    "    return mse\n",
    "\n",
    "mse = perform_linear_regression(test_size=0.2, random_state=42, train_fraction=1.0)\n",
    "print(f'Mean Squared Error: {mse:.2f}')\n"
   ]
  },
  {
   "cell_type": "markdown",
   "id": "68a522ee",
   "metadata": {},
   "source": [
    "**3. Experimentation**\n",
    "\n",
    "We'll analyze how the regression line and its performance change by varying:\n",
    "\n",
    "- **Train-test split sizes**: 70-30, 80-20, 90-10\n",
    "- **Random seeds**: Different values to observe variability\n",
    "- **Dataset size**: Training on 25%, 50%, 75%, and 100% of the training data\n",
    "\n",
    "For each combination, we'll plot the regression line and note the Mean Squared Error (MSE).\n",
    "\n",
    "**Observations**\n",
    "\n",
    "- **Train-test split sizes**: As the training set size increases (e.g., from 70% to 90%), the model generally has more data to learn from, potentially reducing the MSE. However, too small a test set might not adequately represent the model's performance on unseen data.\n",
    "\n",
    "- **Random seeds**: Changing the random seed alters the specific data points in the train-test split. This can lead to variability in model performance, especially if the dataset isn't large enough to ensure consistent splits. It's essential to set a random seed for reproducibility.\n",
    "\n",
    "- **Dataset size**: Training on smaller fractions of the data (e.g., 25%) can lead to higher MSE due to insufficient learning. As the training data size increases, the model's performance typically improves, evidenced by a lower MSE.\n",
    "\n",
    "**Conclusion**\n",
    "\n",
    "The performance of a linear regression model is influenced by the train-test split ratio, the random seed used for data splitting, and the size of the training dataset. Careful consideration of these factors is crucial for building robust predictive models. "
   ]
  },
  {
   "cell_type": "code",
   "execution_count": null,
   "id": "72f54d7c",
   "metadata": {},
   "outputs": [],
   "source": []
  },
  {
   "cell_type": "code",
   "execution_count": null,
   "id": "57eccdc7",
   "metadata": {},
   "outputs": [],
   "source": []
  }
 ],
 "metadata": {
  "kernelspec": {
   "display_name": "Python 3 (ipykernel)",
   "language": "python",
   "name": "python3"
  },
  "language_info": {
   "codemirror_mode": {
    "name": "ipython",
    "version": 3
   },
   "file_extension": ".py",
   "mimetype": "text/x-python",
   "name": "python",
   "nbconvert_exporter": "python",
   "pygments_lexer": "ipython3",
   "version": "3.9.13"
  }
 },
 "nbformat": 4,
 "nbformat_minor": 5
}
